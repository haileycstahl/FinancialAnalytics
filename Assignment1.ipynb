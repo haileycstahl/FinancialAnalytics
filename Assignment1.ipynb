{
 "cells": [
  {
   "cell_type": "markdown",
   "id": "83016d8d",
   "metadata": {},
   "source": [
    "# Hailey Stahl"
   ]
  },
  {
   "cell_type": "code",
   "execution_count": 86,
   "id": "55952543",
   "metadata": {},
   "outputs": [],
   "source": [
    "import numpy as np"
   ]
  },
  {
   "cell_type": "markdown",
   "id": "ae814fc6",
   "metadata": {},
   "source": [
    "# 2. Array of 10 zeros"
   ]
  },
  {
   "cell_type": "code",
   "execution_count": 87,
   "id": "dbfdf36b",
   "metadata": {
    "scrolled": true
   },
   "outputs": [
    {
     "name": "stdout",
     "output_type": "stream",
     "text": [
      "[0. 0. 0. 0. 0. 0. 0. 0. 0. 0.]\n"
     ]
    }
   ],
   "source": [
    "array10 = np.zeros(10)\n",
    "print(array10)"
   ]
  },
  {
   "cell_type": "markdown",
   "id": "9a40f297",
   "metadata": {},
   "source": [
    "# 3. Array of 10 ones"
   ]
  },
  {
   "cell_type": "code",
   "execution_count": 88,
   "id": "e0b1060b",
   "metadata": {},
   "outputs": [
    {
     "name": "stdout",
     "output_type": "stream",
     "text": [
      "[1. 1. 1. 1. 1. 1. 1. 1. 1. 1.]\n"
     ]
    }
   ],
   "source": [
    "arrayones = np.ones(10)\n",
    "print(arrayones)"
   ]
  },
  {
   "cell_type": "markdown",
   "id": "d8adf7b4",
   "metadata": {},
   "source": [
    "# 4. Array of 10 fives"
   ]
  },
  {
   "cell_type": "code",
   "execution_count": 89,
   "id": "b6449d0e",
   "metadata": {},
   "outputs": [
    {
     "name": "stdout",
     "output_type": "stream",
     "text": [
      "[5. 5. 5. 5. 5. 5. 5. 5. 5. 5.]\n"
     ]
    }
   ],
   "source": [
    "arrayfives = np.ones(10)*5\n",
    "print(arrayfives)"
   ]
  },
  {
   "cell_type": "markdown",
   "id": "db3d2daf",
   "metadata": {},
   "source": [
    "# 5. Array of integers from 10-50"
   ]
  },
  {
   "cell_type": "code",
   "execution_count": 90,
   "id": "8e85b19a",
   "metadata": {},
   "outputs": [
    {
     "data": {
      "text/plain": [
       "array([26, 16, 30, 32, 19, 16, 49, 20, 18, 16])"
      ]
     },
     "execution_count": 90,
     "metadata": {},
     "output_type": "execute_result"
    }
   ],
   "source": [
    "np.random.randint(10,50,10)"
   ]
  },
  {
   "cell_type": "markdown",
   "id": "cd2a55dc",
   "metadata": {},
   "source": [
    "# 6.Array of even integers from 10-50"
   ]
  },
  {
   "cell_type": "code",
   "execution_count": 91,
   "id": "dfc21e87",
   "metadata": {},
   "outputs": [
    {
     "name": "stdout",
     "output_type": "stream",
     "text": [
      "[10 12 14 16 18 20 22 24 26 28 30 32 34 36 38 40 42 44 46 48]\n"
     ]
    }
   ],
   "source": [
    "arrayeven = np.arange(10,50,2)\n",
    "print(arrayeven)"
   ]
  },
  {
   "cell_type": "markdown",
   "id": "a43c9fe2",
   "metadata": {},
   "source": [
    "# 7. 3X3 Matrix with values ranging from 0-8"
   ]
  },
  {
   "cell_type": "code",
   "execution_count": 92,
   "id": "d8ad0fae",
   "metadata": {},
   "outputs": [
    {
     "name": "stdout",
     "output_type": "stream",
     "text": [
      "[[4 3 2]\n",
      " [7 1 0]\n",
      " [1 0 6]]\n"
     ]
    }
   ],
   "source": [
    "values = np.random.randint(0,8,9)\n",
    "\n",
    "matrix = np.array(values).reshape(3,3)\n",
    "print(matrix)"
   ]
  },
  {
   "cell_type": "markdown",
   "id": "b2cb5923",
   "metadata": {},
   "source": [
    " # 8. random number between 0-1"
   ]
  },
  {
   "cell_type": "code",
   "execution_count": 93,
   "id": "a0f7e68e",
   "metadata": {
    "scrolled": true
   },
   "outputs": [
    {
     "name": "stdout",
     "output_type": "stream",
     "text": [
      "[0.28432379]\n"
     ]
    }
   ],
   "source": [
    "randomnum = np.random.rand(1)\n",
    "print(randomnum)"
   ]
  },
  {
   "cell_type": "markdown",
   "id": "8b575269",
   "metadata": {},
   "source": [
    "# 9. Create a matrix using the following statements and display "
   ]
  },
  {
   "cell_type": "code",
   "execution_count": 94,
   "id": "69d4b79b",
   "metadata": {},
   "outputs": [
    {
     "name": "stdout",
     "output_type": "stream",
     "text": [
      "[[ 1  2  3  4  5]\n",
      " [ 6  7  8  9 10]\n",
      " [11 12 13 14 15]\n",
      " [16 17 18 19 20]\n",
      " [21 22 23 24 25]]\n"
     ]
    }
   ],
   "source": [
    "mat = np.arange(1,26).reshape(5,5)\n",
    "print(mat)"
   ]
  },
  {
   "cell_type": "markdown",
   "id": "4bdd8659",
   "metadata": {},
   "source": [
    "# a) Get the sum of all the values in the mat matrix\n"
   ]
  },
  {
   "cell_type": "code",
   "execution_count": 95,
   "id": "a41c148d",
   "metadata": {},
   "outputs": [
    {
     "name": "stdout",
     "output_type": "stream",
     "text": [
      "325\n"
     ]
    }
   ],
   "source": [
    "print(mat.sum())"
   ]
  },
  {
   "cell_type": "markdown",
   "id": "a4a53f6e",
   "metadata": {},
   "source": [
    "# b) Get the standard deviation of the values in the mat matrix\n"
   ]
  },
  {
   "cell_type": "code",
   "execution_count": 96,
   "id": "136e1b59",
   "metadata": {},
   "outputs": [
    {
     "name": "stdout",
     "output_type": "stream",
     "text": [
      "7.21\n"
     ]
    }
   ],
   "source": [
    "print(round(mat.std(),2))"
   ]
  },
  {
   "cell_type": "markdown",
   "id": "01dd18ca",
   "metadata": {},
   "source": [
    "# c) Create a new matrix of 25 ones named mat1\n"
   ]
  },
  {
   "cell_type": "code",
   "execution_count": 97,
   "id": "f48d641d",
   "metadata": {},
   "outputs": [
    {
     "name": "stdout",
     "output_type": "stream",
     "text": [
      "[[1. 1. 1. 1. 1.]\n",
      " [1. 1. 1. 1. 1.]\n",
      " [1. 1. 1. 1. 1.]\n",
      " [1. 1. 1. 1. 1.]\n",
      " [1. 1. 1. 1. 1.]]\n"
     ]
    }
   ],
   "source": [
    "mat1= np.ones(25).reshape(5,5)\n",
    "print(mat1)"
   ]
  },
  {
   "cell_type": "markdown",
   "id": "749cee1a",
   "metadata": {},
   "source": [
    " # d) Add the values of mat to those of mat1\n"
   ]
  },
  {
   "cell_type": "code",
   "execution_count": 98,
   "id": "b28015da",
   "metadata": {},
   "outputs": [
    {
     "name": "stdout",
     "output_type": "stream",
     "text": [
      "[[ 2.  3.  4.  5.  6.]\n",
      " [ 7.  8.  9. 10. 11.]\n",
      " [12. 13. 14. 15. 16.]\n",
      " [17. 18. 19. 20. 21.]\n",
      " [22. 23. 24. 25. 26.]]\n"
     ]
    }
   ],
   "source": [
    "add = mat+mat1\n",
    "print(add)"
   ]
  },
  {
   "cell_type": "markdown",
   "id": "5c4da6bc",
   "metadata": {},
   "source": [
    " # e) Multiply the values of mat to those of mat1"
   ]
  },
  {
   "cell_type": "code",
   "execution_count": 99,
   "id": "781d3265",
   "metadata": {},
   "outputs": [
    {
     "name": "stdout",
     "output_type": "stream",
     "text": [
      "[[ 1.  2.  3.  4.  5.]\n",
      " [ 6.  7.  8.  9. 10.]\n",
      " [11. 12. 13. 14. 15.]\n",
      " [16. 17. 18. 19. 20.]\n",
      " [21. 22. 23. 24. 25.]]\n"
     ]
    }
   ],
   "source": [
    "multiply = mat*mat1\n",
    "print(multiply)"
   ]
  }
 ],
 "metadata": {
  "kernelspec": {
   "display_name": "Python 3",
   "language": "python",
   "name": "python3"
  },
  "language_info": {
   "codemirror_mode": {
    "name": "ipython",
    "version": 3
   },
   "file_extension": ".py",
   "mimetype": "text/x-python",
   "name": "python",
   "nbconvert_exporter": "python",
   "pygments_lexer": "ipython3",
   "version": "3.8.8"
  }
 },
 "nbformat": 4,
 "nbformat_minor": 5
}
